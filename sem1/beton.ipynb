{
 "cells": [
  {
   "cell_type": "code",
   "execution_count": 14,
   "metadata": {},
   "outputs": [],
   "source": [
    "home_dir = \"/mnt/e/Проекты/beton/\"\n",
    "complex_dir = home_dir + \"Basmanny/\""
   ]
  },
  {
   "cell_type": "code",
   "execution_count": 15,
   "metadata": {},
   "outputs": [
    {
     "data": {
      "text/plain": [
       "['/mnt/e/Проекты/beton/Basmanny/885861.pdf',\n",
       " '/mnt/e/Проекты/beton/Basmanny/obj42009_pd77-002296 (1).pdf',\n",
       " '/mnt/e/Проекты/beton/Basmanny/obj42009_pd77-002296 (2).pdf']"
      ]
     },
     "execution_count": 15,
     "metadata": {},
     "output_type": "execute_result"
    }
   ],
   "source": [
    "import os\n",
    "files = [complex_dir + f for f in os.listdir(complex_dir)]\n",
    "files[:3]"
   ]
  },
  {
   "cell_type": "code",
   "execution_count": 29,
   "metadata": {},
   "outputs": [],
   "source": [
    "import pymupdf # imports the pymupdf library\n",
    "doc = pymupdf.open(files[0]) # open a document\n",
    "text = \"\"\n",
    "for page in doc: # iterate the document pages\n",
    "  text += page.get_text() + \"\\n\" # get plain text encoded as UTF-8\n",
    "\n",
    "text = text.replace('\\xad', '').replace('\\u00ad', '').replace('\\N{SOFT HYPHEN}', '')"
   ]
  },
  {
   "cell_type": "code",
   "execution_count": 30,
   "metadata": {},
   "outputs": [
    {
     "data": {
      "text/plain": [
       "['ПРОЕКТНАЯ ДЕКЛАРАЦИЯ',\n",
       " '№ 77-002296 от 08.07.2024',\n",
       " 'ЖК MyPriority Basmanny, г.Москва, ЦАО, район Басманный, ул.Малая',\n",
       " 'Почтовая вл.12, стр.2,3,4,5,7,911,вл.12, соор.6 с помещениями общественного',\n",
       " 'назначения и подземной автостоянкой',\n",
       " 'Дата первичного размещения: 30.07.2021',\n",
       " '01 О фирменном наименовании (наименовании) застройщика, месте нахождения застройщика, режиме',\n",
       " 'его работы, номере телефона, адресе официального сайта застройщика и адресе электронной почты (при',\n",
       " 'наличии), фамилии, имени, отчестве (если имеется) лица, исполняющего функции единоличного ис-',\n",
       " 'полнительного органа застройщика, а также об индивидуализирующем застройщика коммерческом обоз-']"
      ]
     },
     "execution_count": 30,
     "metadata": {},
     "output_type": "execute_result"
    }
   ],
   "source": [
    "text.split(\"\\n\")[:10]"
   ]
  },
  {
   "cell_type": "code",
   "execution_count": 28,
   "metadata": {},
   "outputs": [
    {
     "name": "stdout",
     "output_type": "stream",
     "text": [
      "­\n"
     ]
    }
   ],
   "source": []
  },
  {
   "cell_type": "code",
   "execution_count": null,
   "metadata": {},
   "outputs": [],
   "source": []
  }
 ],
 "metadata": {
  "kernelspec": {
   "display_name": "Python 3",
   "language": "python",
   "name": "python3"
  },
  "language_info": {
   "codemirror_mode": {
    "name": "ipython",
    "version": 3
   },
   "file_extension": ".py",
   "mimetype": "text/x-python",
   "name": "python",
   "nbconvert_exporter": "python",
   "pygments_lexer": "ipython3",
   "version": "3.8.10"
  }
 },
 "nbformat": 4,
 "nbformat_minor": 2
}
