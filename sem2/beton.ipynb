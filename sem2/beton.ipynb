{
 "cells": [
  {
   "cell_type": "code",
   "execution_count": 1,
   "metadata": {},
   "outputs": [
    {
     "name": "stderr",
     "output_type": "stream",
     "text": [
      "your 131072x1 screen size is bogus. expect trouble\n",
      "Warning: Ignoring non-Spark config property: master\n",
      "25/02/01 14:55:40 WARN Utils: Your hostname, DESKTOP-FGNDTTH resolves to a loopback address: 127.0.1.1; using 172.30.187.250 instead (on interface eth0)\n",
      "25/02/01 14:55:40 WARN Utils: Set SPARK_LOCAL_IP if you need to bind to another address\n",
      "Setting default log level to \"WARN\".\n",
      "To adjust logging level use sc.setLogLevel(newLevel). For SparkR, use setLogLevel(newLevel).\n",
      "25/02/01 14:55:42 WARN NativeCodeLoader: Unable to load native-hadoop library for your platform... using builtin-java classes where applicable\n",
      "25/02/01 14:55:43 WARN Utils: Service 'SparkUI' could not bind on port 4040. Attempting port 4041.\n"
     ]
    }
   ],
   "source": [
    "from pyspark.sql import SparkSession\n",
    "from pyspark.sql.functions import *\n",
    "import os\n",
    "\n",
    "if \"JAVA_HOME\" not in os.environ:\n",
    "    os.environ[\"JAVA_HOME\"] = \"/usr/lib/jvm/java-17-openjdk-amd64/\"\n",
    "\n",
    "\n",
    "config = {\n",
    "    \"master\": \"local[7]\"\n",
    "}\n",
    "\n",
    "\n",
    "spark = SparkSession.builder.appName(\"beton\")\n",
    "\n",
    "for p in config:\n",
    "    spark = spark.config(p, config[p])\n",
    "\n",
    "spark = spark.getOrCreate()"
   ]
  },
  {
   "cell_type": "code",
   "execution_count": 4,
   "metadata": {},
   "outputs": [],
   "source": [
    "home_dir = \"/mnt/e/Проекты/beton/\"\n",
    "complex_dir = home_dir + \"Basmanny/\""
   ]
  },
  {
   "cell_type": "code",
   "execution_count": 5,
   "metadata": {},
   "outputs": [
    {
     "data": {
      "text/plain": [
       "['/mnt/e/Проекты/beton/Basmanny/885861.pdf',\n",
       " '/mnt/e/Проекты/beton/Basmanny/obj42009_pd77-002296 (1).pdf',\n",
       " '/mnt/e/Проекты/beton/Basmanny/obj42009_pd77-002296 (2).pdf']"
      ]
     },
     "execution_count": 5,
     "metadata": {},
     "output_type": "execute_result"
    }
   ],
   "source": [
    "import os\n",
    "files = [complex_dir + f for f in os.listdir(complex_dir)]\n",
    "files[:3]"
   ]
  },
  {
   "cell_type": "code",
   "execution_count": 6,
   "metadata": {},
   "outputs": [],
   "source": [
    "import pymupdf # imports the pymupdf library\n",
    "doc = pymupdf.open(files[0]) # open a document\n",
    "text = \"\"\n",
    "for page in doc: # iterate the document pages\n",
    "  text += page.get_text() + \"\\n\" # get plain text encoded as UTF-8\n",
    "\n",
    "text = text.replace('\\xad', '').replace('\\u00ad', '').replace('\\N{SOFT HYPHEN}', '')"
   ]
  },
  {
   "cell_type": "code",
   "execution_count": 7,
   "metadata": {},
   "outputs": [
    {
     "data": {
      "text/plain": [
       "['ПРОЕКТНАЯ ДЕКЛАРАЦИЯ',\n",
       " '№ 77-002296 от 08.07.2024',\n",
       " 'ЖК MyPriority Basmanny, г.Москва, ЦАО, район Басманный, ул.Малая',\n",
       " 'Почтовая вл.12, стр.2,3,4,5,7,911,вл.12, соор.6 с помещениями общественного',\n",
       " 'назначения и подземной автостоянкой',\n",
       " 'Дата первичного размещения: 30.07.2021',\n",
       " '01 О фирменном наименовании (наименовании) застройщика, месте нахождения застройщика, режиме',\n",
       " 'его работы, номере телефона, адресе официального сайта застройщика и адресе электронной почты (при',\n",
       " 'наличии), фамилии, имени, отчестве (если имеется) лица, исполняющего функции единоличного ис-',\n",
       " 'полнительного органа застройщика, а также об индивидуализирующем застройщика коммерческом обоз-']"
      ]
     },
     "execution_count": 7,
     "metadata": {},
     "output_type": "execute_result"
    }
   ],
   "source": [
    "strs = text.split(\"\\n\")\n",
    "strs[:10]"
   ]
  },
  {
   "cell_type": "code",
   "execution_count": 9,
   "metadata": {},
   "outputs": [
    {
     "name": "stderr",
     "output_type": "stream",
     "text": [
      "                                                                                \r"
     ]
    },
    {
     "data": {
      "text/html": [
       "<div>\n",
       "<style scoped>\n",
       "    .dataframe tbody tr th:only-of-type {\n",
       "        vertical-align: middle;\n",
       "    }\n",
       "\n",
       "    .dataframe tbody tr th {\n",
       "        vertical-align: top;\n",
       "    }\n",
       "\n",
       "    .dataframe thead th {\n",
       "        text-align: right;\n",
       "    }\n",
       "</style>\n",
       "<table border=\"1\" class=\"dataframe\">\n",
       "  <thead>\n",
       "    <tr style=\"text-align: right;\">\n",
       "      <th></th>\n",
       "      <th>text</th>\n",
       "    </tr>\n",
       "  </thead>\n",
       "  <tbody>\n",
       "    <tr>\n",
       "      <th>0</th>\n",
       "      <td>ПРОЕКТНАЯ ДЕКЛАРАЦИЯ</td>\n",
       "    </tr>\n",
       "    <tr>\n",
       "      <th>1</th>\n",
       "      <td>№ 77-002296 от 08.07.2024</td>\n",
       "    </tr>\n",
       "    <tr>\n",
       "      <th>2</th>\n",
       "      <td>ЖК MyPriority Basmanny, г.Москва, ЦАО, район Б...</td>\n",
       "    </tr>\n",
       "    <tr>\n",
       "      <th>3</th>\n",
       "      <td>Почтовая вл.12, стр.2,3,4,5,7,911,вл.12, соор....</td>\n",
       "    </tr>\n",
       "    <tr>\n",
       "      <th>4</th>\n",
       "      <td>назначения и подземной автостоянкой</td>\n",
       "    </tr>\n",
       "    <tr>\n",
       "      <th>5</th>\n",
       "      <td>Дата первичного размещения: 30.07.2021</td>\n",
       "    </tr>\n",
       "    <tr>\n",
       "      <th>6</th>\n",
       "      <td>01 О фирменном наименовании (наименовании) зас...</td>\n",
       "    </tr>\n",
       "    <tr>\n",
       "      <th>7</th>\n",
       "      <td>его работы, номере телефона, адресе официально...</td>\n",
       "    </tr>\n",
       "    <tr>\n",
       "      <th>8</th>\n",
       "      <td>наличии), фамилии, имени, отчестве (если имеет...</td>\n",
       "    </tr>\n",
       "    <tr>\n",
       "      <th>9</th>\n",
       "      <td>полнительного органа застройщика, а также об и...</td>\n",
       "    </tr>\n",
       "  </tbody>\n",
       "</table>\n",
       "</div>"
      ],
      "text/plain": [
       "                                                text\n",
       "0                               ПРОЕКТНАЯ ДЕКЛАРАЦИЯ\n",
       "1                          № 77-002296 от 08.07.2024\n",
       "2  ЖК MyPriority Basmanny, г.Москва, ЦАО, район Б...\n",
       "3  Почтовая вл.12, стр.2,3,4,5,7,911,вл.12, соор....\n",
       "4                назначения и подземной автостоянкой\n",
       "5             Дата первичного размещения: 30.07.2021\n",
       "6  01 О фирменном наименовании (наименовании) зас...\n",
       "7  его работы, номере телефона, адресе официально...\n",
       "8  наличии), фамилии, имени, отчестве (если имеет...\n",
       "9  полнительного органа застройщика, а также об и..."
      ]
     },
     "execution_count": 9,
     "metadata": {},
     "output_type": "execute_result"
    }
   ],
   "source": [
    "from pyspark.sql import Row\n",
    "\n",
    "spark.createDataFrame([Row(s) for s in strs], \"text: string\").limit(10).toPandas()"
   ]
  },
  {
   "cell_type": "code",
   "execution_count": 33,
   "metadata": {},
   "outputs": [
    {
     "name": "stdout",
     "output_type": "stream",
     "text": [
      "08.07.2024\n"
     ]
    }
   ],
   "source": [
    "dt = strs[1].split(\" \")[-1]\n",
    "\n",
    "import builtins\n",
    "\n",
    "print(\"-\".join(dt[::-1].split(\"\\.\"))[::-1])\n",
    "# yyyy-mm-dd"
   ]
  },
  {
   "cell_type": "code",
   "execution_count": 42,
   "metadata": {},
   "outputs": [
    {
     "name": "stdout",
     "output_type": "stream",
     "text": [
      "2024-07-08\n"
     ]
    }
   ],
   "source": [
    "dt = strs[1].split(\" \")[-1]\n",
    "\n",
    "import builtins\n",
    "\n",
    "decl_dt = print(\"-\".join(dt.split(\".\")[::-1]))\n",
    "decl_dt\n",
    "# yyyy-mm-dd"
   ]
  },
  {
   "cell_type": "code",
   "execution_count": 43,
   "metadata": {},
   "outputs": [
    {
     "data": {
      "text/plain": [
       "25845"
      ]
     },
     "execution_count": 43,
     "metadata": {},
     "output_type": "execute_result"
    }
   ],
   "source": [
    "spark.createDataFrame([Row(i, s) for i, s in enumerate(strs)], \"rn: int, text: string\").count()"
   ]
  },
  {
   "cell_type": "code",
   "execution_count": 44,
   "metadata": {},
   "outputs": [],
   "source": [
    "cached_text = spark.createDataFrame([Row(i, s) for i, s in enumerate(strs)], \"rn: int, text: string\").cache()"
   ]
  },
  {
   "cell_type": "code",
   "execution_count": 45,
   "metadata": {},
   "outputs": [
    {
     "data": {
      "text/html": [
       "<div>\n",
       "<style scoped>\n",
       "    .dataframe tbody tr th:only-of-type {\n",
       "        vertical-align: middle;\n",
       "    }\n",
       "\n",
       "    .dataframe tbody tr th {\n",
       "        vertical-align: top;\n",
       "    }\n",
       "\n",
       "    .dataframe thead th {\n",
       "        text-align: right;\n",
       "    }\n",
       "</style>\n",
       "<table border=\"1\" class=\"dataframe\">\n",
       "  <thead>\n",
       "    <tr style=\"text-align: right;\">\n",
       "      <th></th>\n",
       "      <th>rn</th>\n",
       "      <th>text</th>\n",
       "    </tr>\n",
       "  </thead>\n",
       "  <tbody>\n",
       "    <tr>\n",
       "      <th>0</th>\n",
       "      <td>0</td>\n",
       "      <td>ПРОЕКТНАЯ ДЕКЛАРАЦИЯ</td>\n",
       "    </tr>\n",
       "    <tr>\n",
       "      <th>1</th>\n",
       "      <td>1</td>\n",
       "      <td>№ 77-002296 от 08.07.2024</td>\n",
       "    </tr>\n",
       "    <tr>\n",
       "      <th>2</th>\n",
       "      <td>2</td>\n",
       "      <td>ЖК MyPriority Basmanny, г.Москва, ЦАО, район Б...</td>\n",
       "    </tr>\n",
       "    <tr>\n",
       "      <th>3</th>\n",
       "      <td>3</td>\n",
       "      <td>Почтовая вл.12, стр.2,3,4,5,7,911,вл.12, соор....</td>\n",
       "    </tr>\n",
       "    <tr>\n",
       "      <th>4</th>\n",
       "      <td>4</td>\n",
       "      <td>назначения и подземной автостоянкой</td>\n",
       "    </tr>\n",
       "    <tr>\n",
       "      <th>5</th>\n",
       "      <td>5</td>\n",
       "      <td>Дата первичного размещения: 30.07.2021</td>\n",
       "    </tr>\n",
       "    <tr>\n",
       "      <th>6</th>\n",
       "      <td>6</td>\n",
       "      <td>01 О фирменном наименовании (наименовании) зас...</td>\n",
       "    </tr>\n",
       "    <tr>\n",
       "      <th>7</th>\n",
       "      <td>7</td>\n",
       "      <td>его работы, номере телефона, адресе официально...</td>\n",
       "    </tr>\n",
       "    <tr>\n",
       "      <th>8</th>\n",
       "      <td>8</td>\n",
       "      <td>наличии), фамилии, имени, отчестве (если имеет...</td>\n",
       "    </tr>\n",
       "    <tr>\n",
       "      <th>9</th>\n",
       "      <td>9</td>\n",
       "      <td>полнительного органа застройщика, а также об и...</td>\n",
       "    </tr>\n",
       "  </tbody>\n",
       "</table>\n",
       "</div>"
      ],
      "text/plain": [
       "   rn                                               text\n",
       "0   0                               ПРОЕКТНАЯ ДЕКЛАРАЦИЯ\n",
       "1   1                          № 77-002296 от 08.07.2024\n",
       "2   2  ЖК MyPriority Basmanny, г.Москва, ЦАО, район Б...\n",
       "3   3  Почтовая вл.12, стр.2,3,4,5,7,911,вл.12, соор....\n",
       "4   4                назначения и подземной автостоянкой\n",
       "5   5             Дата первичного размещения: 30.07.2021\n",
       "6   6  01 О фирменном наименовании (наименовании) зас...\n",
       "7   7  его работы, номере телефона, адресе официально...\n",
       "8   8  наличии), фамилии, имени, отчестве (если имеет...\n",
       "9   9  полнительного органа застройщика, а также об и..."
      ]
     },
     "execution_count": 45,
     "metadata": {},
     "output_type": "execute_result"
    }
   ],
   "source": [
    "cached_text.limit(10).toPandas()"
   ]
  },
  {
   "cell_type": "code",
   "execution_count": 55,
   "metadata": {},
   "outputs": [
    {
     "data": {
      "text/plain": [
       "{'19.7.1.1.1.1': 24170, '19.7.2.1.1.1': 24231, '19.7.3.1.1.1': 24297}"
      ]
     },
     "execution_count": 55,
     "metadata": {},
     "output_type": "execute_result"
    }
   ],
   "source": [
    "rns = cached_text.where(\"text like '%19.7.1.1.1.1%' or text like '%19.7.2.1.1.1%' or text like '%19.7.3.1.1.1%'\").toPandas().to_dict(orient=\"records\")\n",
    "rns = dict([(x[\"text\"], x[\"rn\"]) for x in rns])\n",
    "rns"
   ]
  },
  {
   "cell_type": "code",
   "execution_count": null,
   "metadata": {},
   "outputs": [],
   "source": [
    "rns"
   ]
  },
  {
   "cell_type": "code",
   "execution_count": 56,
   "metadata": {},
   "outputs": [
    {
     "data": {
      "text/plain": [
       "24170"
      ]
     },
     "execution_count": 56,
     "metadata": {},
     "output_type": "execute_result"
    }
   ],
   "source": [
    "rns[\"19.7.1.1.1.1\"]"
   ]
  },
  {
   "cell_type": "code",
   "execution_count": 60,
   "metadata": {},
   "outputs": [
    {
     "data": {
      "text/plain": [
       "'877'"
      ]
     },
     "execution_count": 60,
     "metadata": {},
     "output_type": "execute_result"
    }
   ],
   "source": [
    "cached_text.where(col(\"rn\") == rns[\"19.7.1.1.1.1\"] + 3).select(\"text\").collect()[0][0]"
   ]
  },
  {
   "cell_type": "code",
   "execution_count": 62,
   "metadata": {},
   "outputs": [
    {
     "data": {
      "text/html": [
       "<div>\n",
       "<style scoped>\n",
       "    .dataframe tbody tr th:only-of-type {\n",
       "        vertical-align: middle;\n",
       "    }\n",
       "\n",
       "    .dataframe tbody tr th {\n",
       "        vertical-align: top;\n",
       "    }\n",
       "\n",
       "    .dataframe thead th {\n",
       "        text-align: right;\n",
       "    }\n",
       "</style>\n",
       "<table border=\"1\" class=\"dataframe\">\n",
       "  <thead>\n",
       "    <tr style=\"text-align: right;\">\n",
       "      <th></th>\n",
       "      <th>text</th>\n",
       "      <th>type</th>\n",
       "    </tr>\n",
       "  </thead>\n",
       "  <tbody>\n",
       "    <tr>\n",
       "      <th>0</th>\n",
       "      <td>877</td>\n",
       "      <td>flats</td>\n",
       "    </tr>\n",
       "    <tr>\n",
       "      <th>1</th>\n",
       "      <td>49 275,01 м2</td>\n",
       "      <td>meters</td>\n",
       "    </tr>\n",
       "    <tr>\n",
       "      <th>2</th>\n",
       "      <td>18 315 298 000 руб.</td>\n",
       "      <td>price</td>\n",
       "    </tr>\n",
       "  </tbody>\n",
       "</table>\n",
       "</div>"
      ],
      "text/plain": [
       "                  text    type\n",
       "0                  877   flats\n",
       "1         49 275,01 м2  meters\n",
       "2  18 315 298 000 руб.   price"
      ]
     },
     "execution_count": 62,
     "metadata": {},
     "output_type": "execute_result"
    }
   ],
   "source": [
    "flats = cached_text.where(col(\"rn\") == rns[\"19.7.1.1.1.1\"] + 3).select(\"text\").withColumn(\"type\", lit(\"flats\"))\n",
    "meters = cached_text.where(col(\"rn\") == rns[\"19.7.2.1.1.1\"] + 3).select(\"text\").withColumn(\"type\", lit(\"meters\"))\n",
    "price = cached_text.where(col(\"rn\") == rns[\"19.7.3.1.1.1\"] + 3).select(\"text\").withColumn(\"type\", lit(\"price\"))\n",
    "\n",
    "flats.union(meters).union(price).toPandas()"
   ]
  },
  {
   "cell_type": "code",
   "execution_count": 65,
   "metadata": {},
   "outputs": [
    {
     "data": {
      "text/html": [
       "<div>\n",
       "<style scoped>\n",
       "    .dataframe tbody tr th:only-of-type {\n",
       "        vertical-align: middle;\n",
       "    }\n",
       "\n",
       "    .dataframe tbody tr th {\n",
       "        vertical-align: top;\n",
       "    }\n",
       "\n",
       "    .dataframe thead th {\n",
       "        text-align: right;\n",
       "    }\n",
       "</style>\n",
       "<table border=\"1\" class=\"dataframe\">\n",
       "  <thead>\n",
       "    <tr style=\"text-align: right;\">\n",
       "      <th></th>\n",
       "      <th>path</th>\n",
       "    </tr>\n",
       "  </thead>\n",
       "  <tbody>\n",
       "    <tr>\n",
       "      <th>0</th>\n",
       "      <td>/mnt/e/Проекты/beton/Basmanny/885861.pdf</td>\n",
       "    </tr>\n",
       "    <tr>\n",
       "      <th>1</th>\n",
       "      <td>/mnt/e/Проекты/beton/Basmanny/obj42009_pd77-00...</td>\n",
       "    </tr>\n",
       "    <tr>\n",
       "      <th>2</th>\n",
       "      <td>/mnt/e/Проекты/beton/Basmanny/obj42009_pd77-00...</td>\n",
       "    </tr>\n",
       "    <tr>\n",
       "      <th>3</th>\n",
       "      <td>/mnt/e/Проекты/beton/Basmanny/obj42009_pd77-00...</td>\n",
       "    </tr>\n",
       "  </tbody>\n",
       "</table>\n",
       "</div>"
      ],
      "text/plain": [
       "                                                path\n",
       "0           /mnt/e/Проекты/beton/Basmanny/885861.pdf\n",
       "1  /mnt/e/Проекты/beton/Basmanny/obj42009_pd77-00...\n",
       "2  /mnt/e/Проекты/beton/Basmanny/obj42009_pd77-00...\n",
       "3  /mnt/e/Проекты/beton/Basmanny/obj42009_pd77-00..."
      ]
     },
     "execution_count": 65,
     "metadata": {},
     "output_type": "execute_result"
    }
   ],
   "source": [
    "spark.createDataFrame([Row(s) for s in files], \"path: string\").toPandas()[:4]"
   ]
  },
  {
   "cell_type": "code",
   "execution_count": 197,
   "metadata": {},
   "outputs": [],
   "source": [
    "def parse(path):\n",
    "    import pymupdf # imports the pymupdf library\n",
    "    try:\n",
    "        doc = pymupdf.open(path) # open a document\n",
    "        text = \"\"\n",
    "        \n",
    "        for page in doc: # iterate the document pages\n",
    "            text += page.get_text() + \"\\n\" # get plain text encoded as UTF-8\n",
    "        #    pass\n",
    "\n",
    "        text = text.replace('\\xad', '').replace('\\u00ad', '').replace('\\N{SOFT HYPHEN}', '')\n",
    "        strs = text.split(\"\\n\")\n",
    "    #\n",
    "        dt = strs[1].split(\" \")[-1]\n",
    "\n",
    "        #decl_dt = path\n",
    "#\n",
    "        decl_dt = \"-\".join(dt.split(\".\")[::-1])\n",
    "        return decl_dt, \"\"\n",
    "        #return text #str(len(strs))\n",
    "    except Exception as e:\n",
    "        return None, str(e)"
   ]
  },
  {
   "cell_type": "code",
   "execution_count": 186,
   "metadata": {},
   "outputs": [
    {
     "data": {
      "text/html": [
       "<div>\n",
       "<style scoped>\n",
       "    .dataframe tbody tr th:only-of-type {\n",
       "        vertical-align: middle;\n",
       "    }\n",
       "\n",
       "    .dataframe tbody tr th {\n",
       "        vertical-align: top;\n",
       "    }\n",
       "\n",
       "    .dataframe thead th {\n",
       "        text-align: right;\n",
       "    }\n",
       "</style>\n",
       "<table border=\"1\" class=\"dataframe\">\n",
       "  <thead>\n",
       "    <tr style=\"text-align: right;\">\n",
       "      <th></th>\n",
       "      <th>path</th>\n",
       "      <th>result</th>\n",
       "    </tr>\n",
       "  </thead>\n",
       "  <tbody>\n",
       "    <tr>\n",
       "      <th>0</th>\n",
       "      <td>/mnt/e/Проекты/beton/Basmanny/885861.pdf</td>\n",
       "      <td>[Ljava.lang.Object;@5471617e</td>\n",
       "    </tr>\n",
       "    <tr>\n",
       "      <th>1</th>\n",
       "      <td>/mnt/e/Проекты/beton/Basmanny/obj42009_pd77-00...</td>\n",
       "      <td>[Ljava.lang.Object;@4f15b17e</td>\n",
       "    </tr>\n",
       "    <tr>\n",
       "      <th>2</th>\n",
       "      <td>/mnt/e/Проекты/beton/Basmanny/obj42009_pd77-00...</td>\n",
       "      <td>[Ljava.lang.Object;@444baed</td>\n",
       "    </tr>\n",
       "    <tr>\n",
       "      <th>3</th>\n",
       "      <td>/mnt/e/Проекты/beton/Basmanny/obj42009_pd77-00...</td>\n",
       "      <td>[Ljava.lang.Object;@3fa85817</td>\n",
       "    </tr>\n",
       "  </tbody>\n",
       "</table>\n",
       "</div>"
      ],
      "text/plain": [
       "                                                path  \\\n",
       "0           /mnt/e/Проекты/beton/Basmanny/885861.pdf   \n",
       "1  /mnt/e/Проекты/beton/Basmanny/obj42009_pd77-00...   \n",
       "2  /mnt/e/Проекты/beton/Basmanny/obj42009_pd77-00...   \n",
       "3  /mnt/e/Проекты/beton/Basmanny/obj42009_pd77-00...   \n",
       "\n",
       "                         result  \n",
       "0  [Ljava.lang.Object;@5471617e  \n",
       "1  [Ljava.lang.Object;@4f15b17e  \n",
       "2   [Ljava.lang.Object;@444baed  \n",
       "3  [Ljava.lang.Object;@3fa85817  "
      ]
     },
     "execution_count": 186,
     "metadata": {},
     "output_type": "execute_result"
    }
   ],
   "source": [
    "spark.createDataFrame([Row(s) for s in files], \"path: string\")\\\n",
    ".withColumn(\"result\", udf(parse, \"string\")(\"path\"))\\\n",
    ".limit(4)\\\n",
    ".toPandas()"
   ]
  },
  {
   "cell_type": "code",
   "execution_count": 198,
   "metadata": {},
   "outputs": [],
   "source": [
    "def parse_pd(paths):\n",
    "    for pdf in paths:\n",
    "        dts = []\n",
    "        for r in pdf.itertuples():\n",
    "           res = parse(str(r[1]))\n",
    "           dts.append(str(res[0]) + res[1])\n",
    "\n",
    "        pdf[\"dt\"] = dts #str(r[1])  \n",
    "        #print(pdf)\n",
    "        yield pdf"
   ]
  },
  {
   "cell_type": "code",
   "execution_count": 200,
   "metadata": {},
   "outputs": [
    {
     "name": "stderr",
     "output_type": "stream",
     "text": [
      "                                                                                \r"
     ]
    },
    {
     "data": {
      "text/html": [
       "<div>\n",
       "<style scoped>\n",
       "    .dataframe tbody tr th:only-of-type {\n",
       "        vertical-align: middle;\n",
       "    }\n",
       "\n",
       "    .dataframe tbody tr th {\n",
       "        vertical-align: top;\n",
       "    }\n",
       "\n",
       "    .dataframe thead th {\n",
       "        text-align: right;\n",
       "    }\n",
       "</style>\n",
       "<table border=\"1\" class=\"dataframe\">\n",
       "  <thead>\n",
       "    <tr style=\"text-align: right;\">\n",
       "      <th></th>\n",
       "      <th>path</th>\n",
       "      <th>dt</th>\n",
       "    </tr>\n",
       "  </thead>\n",
       "  <tbody>\n",
       "    <tr>\n",
       "      <th>0</th>\n",
       "      <td>/mnt/e/Проекты/beton/Basmanny/885861.pdf</td>\n",
       "      <td>2024-07-08</td>\n",
       "    </tr>\n",
       "    <tr>\n",
       "      <th>1</th>\n",
       "      <td>/mnt/e/Проекты/beton/Basmanny/obj42009_pd77-00...</td>\n",
       "      <td>2024-09-17</td>\n",
       "    </tr>\n",
       "    <tr>\n",
       "      <th>2</th>\n",
       "      <td>/mnt/e/Проекты/beton/Basmanny/obj42009_pd77-00...</td>\n",
       "      <td>2024-09-30</td>\n",
       "    </tr>\n",
       "    <tr>\n",
       "      <th>3</th>\n",
       "      <td>/mnt/e/Проекты/beton/Basmanny/obj42009_pd77-00...</td>\n",
       "      <td>2024-10-08</td>\n",
       "    </tr>\n",
       "  </tbody>\n",
       "</table>\n",
       "</div>"
      ],
      "text/plain": [
       "                                                path          dt\n",
       "0           /mnt/e/Проекты/beton/Basmanny/885861.pdf  2024-07-08\n",
       "1  /mnt/e/Проекты/beton/Basmanny/obj42009_pd77-00...  2024-09-17\n",
       "2  /mnt/e/Проекты/beton/Basmanny/obj42009_pd77-00...  2024-09-30\n",
       "3  /mnt/e/Проекты/beton/Basmanny/obj42009_pd77-00...  2024-10-08"
      ]
     },
     "execution_count": 200,
     "metadata": {},
     "output_type": "execute_result"
    }
   ],
   "source": [
    "spark.createDataFrame([Row(s) for s in files], \"path: string\")\\\n",
    ".mapInPandas(\n",
    "    parse_pd, schema=\"path: string, dt: string\"\n",
    ")\\\n",
    ".limit(4)\\\n",
    ".toPandas()"
   ]
  },
  {
   "cell_type": "code",
   "execution_count": null,
   "metadata": {},
   "outputs": [],
   "source": []
  }
 ],
 "metadata": {
  "kernelspec": {
   "display_name": "Python 3",
   "language": "python",
   "name": "python3"
  },
  "language_info": {
   "codemirror_mode": {
    "name": "ipython",
    "version": 3
   },
   "file_extension": ".py",
   "mimetype": "text/x-python",
   "name": "python",
   "nbconvert_exporter": "python",
   "pygments_lexer": "ipython3",
   "version": "3.8.10"
  }
 },
 "nbformat": 4,
 "nbformat_minor": 2
}
